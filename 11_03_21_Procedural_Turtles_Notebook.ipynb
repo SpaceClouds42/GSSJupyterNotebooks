{
  "nbformat": 4,
  "nbformat_minor": 0,
  "metadata": {
    "colab": {
      "name": "11/03/21 -- Procedural Turtles Notebook",
      "private_outputs": true,
      "provenance": [],
      "toc_visible": true,
      "include_colab_link": true
    },
    "kernelspec": {
      "name": "python3",
      "display_name": "Python 3"
    },
    "language_info": {
      "name": "python"
    }
  },
  "cells": [
    {
      "cell_type": "markdown",
      "metadata": {
        "id": "view-in-github",
        "colab_type": "text"
      },
      "source": [
        "<a href=\"https://colab.research.google.com/github/SpaceClouds42/GSSJupyterNotebooks/blob/ProceduralTurtles/11_03_21_Procedural_Turtles_Notebook.ipynb\" target=\"_parent\"><img src=\"https://colab.research.google.com/assets/colab-badge.svg\" alt=\"Open In Colab\"/></a>"
      ]
    },
    {
      "cell_type": "markdown",
      "metadata": {
        "id": "xf2QE5Kgyrzx"
      },
      "source": [
        "# Procedural Turtles 🐢\n",
        "\n",
        "_If you have any questions, ask Emre_"
      ]
    },
    {
      "cell_type": "markdown",
      "metadata": {
        "id": "orI1aRWDf1NR"
      },
      "source": [
        "## This is a Jupyter Notebook\n",
        "\n",
        "In it, there are text cells, like this one"
      ]
    },
    {
      "cell_type": "code",
      "metadata": {
        "id": "lfRUbpujf3ml"
      },
      "source": [
        "# and code cells like this one\n",
        "# press the play button on the left to run the code\n",
        "\n",
        "print(\"Hello!\")"
      ],
      "execution_count": null,
      "outputs": []
    },
    {
      "cell_type": "markdown",
      "metadata": {
        "id": "aIePPWUpSYqv"
      },
      "source": [
        "### Whenever there is a code example, you're encouraged to edit it to better understand what's happening."
      ]
    },
    {
      "cell_type": "markdown",
      "metadata": {
        "id": "gzoA2vddf7_M"
      },
      "source": [
        "### Saving\n",
        "\n",
        "In order to save the notebook, press the `Copy to Drive` button in the top left."
      ]
    },
    {
      "cell_type": "markdown",
      "metadata": {
        "id": "MC5LzqYugEaX"
      },
      "source": [
        "# Turtles\n",
        "\n",
        "Now, let's get to the fun stuff!\n",
        "\n",
        "You'll be drawing with \"turtles\" that move across the screen. Where they move, they drag the pen, creating a mark.\n",
        "\n",
        "In order for everything to work, you'll need to run the following code. It installs the proper tool needed for drawing with turtles."
      ]
    },
    {
      "cell_type": "code",
      "metadata": {
        "id": "gYblznGLy8U7"
      },
      "source": [
        "!pip3 install ColabTurtlePlus\n",
        "from ColabTurtlePlus.Turtle import *"
      ],
      "execution_count": null,
      "outputs": []
    },
    {
      "cell_type": "markdown",
      "metadata": {
        "id": "NlcqA8qBgXMs"
      },
      "source": [
        "## Make Your Turtle\n",
        "\n",
        "In order for your turtle to show up, you'll need to tell the computer to start your the turtle using `initializeTurtle()`. Running the following code should show you a turtle on a blank background."
      ]
    },
    {
      "cell_type": "code",
      "metadata": {
        "id": "SJPVc1bp7qUo"
      },
      "source": [
        "initializeTurtle()"
      ],
      "execution_count": null,
      "outputs": []
    },
    {
      "cell_type": "markdown",
      "metadata": {
        "id": "oLiPK7zk7tiH"
      },
      "source": [
        "Any time you want to reset the turtle, use `initializeTurtle()` and the drawing will be cleared with the turtle back at the center of the screen"
      ]
    },
    {
      "cell_type": "markdown",
      "metadata": {
        "id": "xYFwn-KI8P2q"
      },
      "source": [
        "## Drawing With Your Turtle\n",
        "\n",
        "In order to draw, the turtle needs to move to drag the pen. Use `forward(n)` where `n` is the number of pixels you want the turtle to move. For example, `forward(50)` will make the turtle move forward 50 pixels"
      ]
    },
    {
      "cell_type": "code",
      "metadata": {
        "id": "tZNA92dD88x3"
      },
      "source": [
        "forward(50)"
      ],
      "execution_count": null,
      "outputs": []
    },
    {
      "cell_type": "markdown",
      "metadata": {
        "id": "-iR8vrlI9sCm"
      },
      "source": [
        "### Turning Your Turtle\n",
        "\n",
        "If you just keep moving forward, you can't draw more than a line. To draw a shape, you need to turn the turtle with `left(a)` or `right(a)` where `a` is the number of **degrees** the turtle should turn in that direction.\n",
        "\n",
        "For example, if you want to draw a square, you could do the following"
      ]
    },
    {
      "cell_type": "code",
      "metadata": {
        "id": "qsHefSdW-SZG"
      },
      "source": [
        "initializeTurtle() # resetting the turtle\n",
        "\n",
        "forward(100) # move the turtle forward 100 pixels to make the top side of the square\n",
        "right(90) # turn the turtle 90 degrees to the right\n",
        "\n",
        "forward(100) # move the turtle forward 100 pixels to make the right side of the square\n",
        "right(90) # turn the turtle another 90 degrees to the right\n",
        "\n",
        "forward(100) # move the turtle forward 100 pixels to make the bottom side of the square\n",
        "right(90) # turn the turtle another 90 degrees to the right\n",
        "\n",
        "forward(100) # move the turtle forward 100 pixels to make the final side of the square\n",
        "\n",
        "hideturtle() # this hides the turtle, you can use showturtle() to make it reappear"
      ],
      "execution_count": null,
      "outputs": []
    },
    {
      "cell_type": "markdown",
      "metadata": {
        "id": "uvb4iG3wEaRN"
      },
      "source": [
        "### Moving Without Drawing\n",
        "\n",
        "If you want to move the turtle without drawing a line, you can use `penup()` and `penddown()`\n",
        "\n",
        "For example, if you want to draw a second square next to the first one, you need to move the turtle with the pen up, then put the pen back down to draw the second one."
      ]
    },
    {
      "cell_type": "code",
      "metadata": {
        "id": "S_1OuqSXFiZG"
      },
      "source": [
        "showturtle() # have to show because turtle was hidden in previous code block\n",
        "\n",
        "penup() # lift pen so it doesn't draw\n",
        "forward(50) # move a bit to the left\n",
        "pendown() # put pen back down so it draws\n",
        "\n",
        "# draw the second square\n",
        "forward(100) # move the turtle forward 100 pixels to make the bottom side of the square\n",
        "right(90) # turn the turtle 90 degrees to the right\n",
        "forward(100) # move the turtle forward 100 pixels to make the left side of the square\n",
        "right(90) # turn the turtle another 90 degrees to the right\n",
        "forward(100) # move the turtle forward 100 pixels to make the top side of the square\n",
        "right(90) # turn the turtle another 90 degrees to the right\n",
        "forward(100) # move the turtle forward 100 pixels to make the final side of the square\n"
      ],
      "execution_count": null,
      "outputs": []
    },
    {
      "cell_type": "markdown",
      "metadata": {
        "id": "xvX82T1iMKPP"
      },
      "source": [
        "You can also tell the turtle to move to a specific position. `home()` will move the turtle to the center, and `jumpto(x, y)` will move the turtle to the (x, y) coordinate in the window. For both, if the pen is down, it will draw a line from its previous position to the place it moves to, so be sure to use `penup()` if you want it to not draw.\n",
        "\n",
        "_You do not have to use these, but if you want, they can be useful tools_"
      ]
    },
    {
      "cell_type": "code",
      "metadata": {
        "id": "tP-KQ8gVNP4y"
      },
      "source": [
        "initializeTurtle()\n",
        "\n",
        "circle(50, 120) # draws a circle with a radius of 50 pixels, and only 120 degrees of the circle\n",
        "home() # did not lift pen, so a line is drawn\n",
        "\n",
        "circle(-50, 120) # negative radius makes it draw the circle in the other direction\n",
        "penup()\n",
        "home() # this time, it won't draw a line when it returns home"
      ],
      "execution_count": null,
      "outputs": []
    },
    {
      "cell_type": "markdown",
      "metadata": {
        "id": "9rch5oFnOH-B"
      },
      "source": [
        "### Shapes\n",
        "\n",
        "Telling the computer how to turn for every single side of a shape takes a lot of lines of code. You can use `regularPolygon(sides, length, steps)` to draw a shape that has `sides` sides and is `length` long. `steps` is optional, and tells the computer to only draw that many steps of the shape.\n",
        "\n",
        "For example, if you want to draw the first two sides of a triangle, you can do `regularPolygon(3, 100, 2)` because a triangle has `3` sides, we want each side to be `100` pixels long, and we only want the first `2` sides to be drawn."
      ]
    },
    {
      "cell_type": "code",
      "metadata": {
        "id": "1zCId-tyPXLj"
      },
      "source": [
        "initializeTurtle()\n",
        "\n",
        "regularPolygon(3, 100, 2)"
      ],
      "execution_count": null,
      "outputs": []
    },
    {
      "cell_type": "markdown",
      "metadata": {
        "id": "QUhYx_ChPo-z"
      },
      "source": [
        "### Color! 🌈\n",
        "\n",
        "You can change the color of the line with `color(c)` where `c` is the color you want to use.\n",
        "\n",
        "You can also change the color of the background with `bgcolor(c)`"
      ]
    },
    {
      "cell_type": "code",
      "metadata": {
        "id": "_gnv6mj1QMbm"
      },
      "source": [
        "initializeTurtle()\n",
        "\n",
        "bgcolor('purple')\n",
        "color('yellow')\n",
        "\n",
        "circle(50)\n",
        "right(90)\n",
        "forward(100)\n",
        "\n",
        "right(30)\n",
        "forward(70)\n",
        "backward(70) # backward moves the turtle in the direction opposite of the direction it's facing\n",
        "\n",
        "left(30) # once to turn it back to facing straight down\n",
        "left(30) # again to turn it to the left to draw the left leg\n",
        "forward(70)\n",
        "backward(70)\n",
        "\n",
        "right(30) # once to turn back to facing straight down\n",
        "right(180) # once to turn all the way around so it faces up\n",
        "forward(50)\n",
        "\n",
        "right(30)\n",
        "forward(60)\n",
        "backward(60)\n",
        "\n",
        "left(30)\n",
        "left(30)\n",
        "forward(60)\n",
        "\n",
        "hideturtle()"
      ],
      "execution_count": null,
      "outputs": []
    },
    {
      "cell_type": "markdown",
      "metadata": {
        "id": "vF4r___KSrLs"
      },
      "source": [
        "# Do It Yourself!"
      ]
    },
    {
      "cell_type": "markdown",
      "metadata": {
        "id": "kM-b1lJCVIAM"
      },
      "source": [
        "## Micky Mouse 🐭\n",
        "\n",
        "Try to draw Micky Mouse's face with the turtle\n",
        "\n"
      ]
    }
  ]
}